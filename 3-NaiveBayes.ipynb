{
 "cells": [
  {
   "cell_type": "code",
   "execution_count": 1,
   "id": "9ca4bb29",
   "metadata": {},
   "outputs": [],
   "source": [
    "import matplotlib.pyplot as plt\n",
    "import numpy as np\n",
    "import pandas as pd\n",
    "\n",
    "from sklearn.datasets import load_iris\n",
    "from sklearn.model_selection import train_test_split\n",
    "\n",
    "from collections import Counter\n",
    "import math \n"
   ]
  },
  {
   "cell_type": "code",
   "execution_count": 2,
   "id": "36ac5569",
   "metadata": {},
   "outputs": [],
   "source": [
    "# data\n",
    "def create_data():\n",
    "    iris = load_iris()\n",
    "    df = pd.DataFrame(iris.data, columns=iris.feature_names)\n",
    "    df['label'] = iris.target\n",
    "    df.columns = [\n",
    "        'sepal length', 'sepal width', 'petal length', 'petal width', 'label'\n",
    "    ]\n",
    "    data = np.array(df.iloc[:100, :])\n",
    "    return data[:, :-1], data[:, -1]"
   ]
  },
  {
   "cell_type": "code",
   "execution_count": 3,
   "id": "acb79c88",
   "metadata": {},
   "outputs": [],
   "source": [
    "x,y=create_data()\n",
    "x_train,x_test,y_train,y_test=train_test_split(x,y,test_size=0.3)"
   ]
  },
  {
   "cell_type": "code",
   "execution_count": 4,
   "id": "a90f9b57",
   "metadata": {},
   "outputs": [
    {
     "data": {
      "text/plain": [
       "array([[5. , 3. , 1.6, 0.2],\n",
       "       [5.1, 3.4, 1.5, 0.2],\n",
       "       [4.5, 2.3, 1.3, 0.3],\n",
       "       [4.7, 3.2, 1.6, 0.2],\n",
       "       [5.2, 4.1, 1.5, 0.1],\n",
       "       [5.6, 2.5, 3.9, 1.1],\n",
       "       [6.1, 2.8, 4.7, 1.2],\n",
       "       [5. , 3.5, 1.6, 0.6],\n",
       "       [5.4, 3.4, 1.5, 0.4],\n",
       "       [4.8, 3.1, 1.6, 0.2],\n",
       "       [6.3, 3.3, 4.7, 1.6],\n",
       "       [6.7, 3. , 5. , 1.7],\n",
       "       [6.4, 2.9, 4.3, 1.3],\n",
       "       [5.5, 2.4, 3.7, 1. ],\n",
       "       [6.7, 3.1, 4.7, 1.5],\n",
       "       [5.7, 2.9, 4.2, 1.3],\n",
       "       [5. , 2. , 3.5, 1. ],\n",
       "       [5.5, 2.3, 4. , 1.3],\n",
       "       [5.7, 2.6, 3.5, 1. ],\n",
       "       [6.3, 2.5, 4.9, 1.5],\n",
       "       [5.7, 2.8, 4.5, 1.3],\n",
       "       [5.4, 3.9, 1.7, 0.4],\n",
       "       [5.4, 3. , 4.5, 1.5],\n",
       "       [5.2, 3.4, 1.4, 0.2],\n",
       "       [5. , 3.4, 1.5, 0.2],\n",
       "       [5.6, 3. , 4.1, 1.3],\n",
       "       [4.6, 3.4, 1.4, 0.3],\n",
       "       [5.4, 3.4, 1.7, 0.2],\n",
       "       [4.3, 3. , 1.1, 0.1],\n",
       "       [6.9, 3.1, 4.9, 1.5],\n",
       "       [6.1, 2.8, 4. , 1.3],\n",
       "       [5.5, 2.5, 4. , 1.3],\n",
       "       [4.4, 3. , 1.3, 0.2],\n",
       "       [5. , 3.3, 1.4, 0.2],\n",
       "       [5.5, 2.4, 3.8, 1.1],\n",
       "       [5.1, 3.8, 1.6, 0.2],\n",
       "       [4.6, 3.2, 1.4, 0.2],\n",
       "       [4.4, 2.9, 1.4, 0.2],\n",
       "       [5.5, 3.5, 1.3, 0.2],\n",
       "       [5.6, 3. , 4.5, 1.5],\n",
       "       [6.7, 3.1, 4.4, 1.4],\n",
       "       [5.5, 4.2, 1.4, 0.2],\n",
       "       [6.2, 2.2, 4.5, 1.5],\n",
       "       [4.8, 3.4, 1.6, 0.2],\n",
       "       [5.7, 2.8, 4.1, 1.3],\n",
       "       [5.1, 3.8, 1.5, 0.3],\n",
       "       [5.8, 4. , 1.2, 0.2],\n",
       "       [6.4, 3.2, 4.5, 1.5],\n",
       "       [5.9, 3.2, 4.8, 1.8],\n",
       "       [5.3, 3.7, 1.5, 0.2],\n",
       "       [6.8, 2.8, 4.8, 1.4],\n",
       "       [5.2, 3.5, 1.5, 0.2],\n",
       "       [4.8, 3. , 1.4, 0.3],\n",
       "       [7. , 3.2, 4.7, 1.4],\n",
       "       [4.9, 3.1, 1.5, 0.2],\n",
       "       [5.1, 3.3, 1.7, 0.5],\n",
       "       [6.6, 2.9, 4.6, 1.3],\n",
       "       [4.9, 3.6, 1.4, 0.1],\n",
       "       [5. , 2.3, 3.3, 1. ],\n",
       "       [4.8, 3. , 1.4, 0.1],\n",
       "       [6.1, 2.9, 4.7, 1.4],\n",
       "       [5. , 3.5, 1.3, 0.3],\n",
       "       [4.9, 3. , 1.4, 0.2],\n",
       "       [4.8, 3.4, 1.9, 0.2],\n",
       "       [4.6, 3.6, 1. , 0.2],\n",
       "       [5.1, 3.5, 1.4, 0.2],\n",
       "       [5.1, 3.5, 1.4, 0.3],\n",
       "       [6.3, 2.3, 4.4, 1.3],\n",
       "       [5.4, 3.7, 1.5, 0.2],\n",
       "       [5.9, 3. , 4.2, 1.5]])"
      ]
     },
     "execution_count": 4,
     "metadata": {},
     "output_type": "execute_result"
    }
   ],
   "source": [
    "x_train"
   ]
  },
  {
   "cell_type": "markdown",
   "id": "187d7d6a",
   "metadata": {},
   "source": [
    "# 高斯朴素贝叶斯 GaussianNB  \n",
    "特征的可能性假设为服从**正态分布**  \n",
    "概率密度函数：  \n",
    "$P(x_i|y_k)=\\frac{1}{\\sqrt{2\\pi\\sigma^2_{yk}}}exp(-\\frac{(x_i-\\mu_{yk}\\ )^2}{2\\sigma^2_{yk}})$  \n",
    "$\\mu_{yk}$为在类别为yk的样本中，特征$x_i$的均值  \n",
    "$\\sigma_y$为在类别为yk的样本中，特征$x_i$的标准差  \n",
    "$\\sigma^2=\\frac{\\sum(X-\\mu)^2}{N}$"
   ]
  },
  {
   "cell_type": "code",
   "execution_count": 5,
   "id": "25c7d0b0",
   "metadata": {},
   "outputs": [],
   "source": [
    "class my_GaussianNB:\n",
    "    def __init__(self):\n",
    "        self.avg=None  # 均值\n",
    "        self.var=None  # 方差\n",
    "        self.prior=None  # 先验概率\n",
    "        self.n_class=None  # 类别个数\n",
    "    \n",
    "    def get_prior(self,y_train):  # 获取先验概率\n",
    "        count=Counter(y_train)\n",
    "        prior_vec=np.array([count[i]/len(count) for i in range(len(count))])\n",
    "        return prior_vec\n",
    "    \n",
    "    def get_avg(self,x_train,y_train):  # 获取每个label对应特征维度的均值\n",
    "#         avg_arr=x_train[y_train==0].mean(axis=0)\n",
    "#         i=1\n",
    "#         while i<self.n_class:\n",
    "#             arr=x_train[y_train==i].mean(axis=0)\n",
    "#             avg_arr=np.vstack((arr,avg_arr))\n",
    "        return np.array([x_train[y_train==i].mean(axis=0) for i in range(self.n_class)])\n",
    "    \n",
    "    def get_var(self,x_train,y_train):  # 获取方差\n",
    "#         var_arr=x_train[y_train==0].var(axis=0)\n",
    "#         i=1\n",
    "#         while i<self.n_class:\n",
    "#             arr=x_train[y_train==i].var(axis=0)\n",
    "#             var_arr=np.vstack((arr,var_arr))\n",
    "        return np.array([x_train[y_train==i].var(axis=0) for i in range(self.n_class)])\n",
    "    \n",
    "    def likelihood(self,row):\n",
    "        return (1 / np.sqrt(2 * np.pi * self.var) * np.exp(\n",
    "        -(row - self.avg)**2 / (2 * self.var))).prod(axis=1)  # prod表示一行元素相乘\n",
    "    \n",
    "    def fit(self, x_train, y_train):\n",
    "        self.prior = self.get_prior(y_train)\n",
    "        self.n_class = len(self.prior)\n",
    "        self.avg = self.get_avg(x_train, y_train)\n",
    "        self.var = self.get_var(x_train, y_train)\n",
    "        \n",
    "    def predict_prob(self, x_train):\n",
    "        likelihood = np.apply_along_axis(self.likelihood, axis=1, arr=x_train)\n",
    "        probs = self.prior * likelihood\n",
    "        probs_sum = probs.sum(axis=1)\n",
    "        return probs / probs_sum[:, None]  # 进行归一化\n",
    "    \n",
    "    def predict(self, x_train):\n",
    "        return self.predict_prob(x_train).argmax(axis=1)\n",
    "    "
   ]
  },
  {
   "cell_type": "code",
   "execution_count": 6,
   "id": "687cc79b",
   "metadata": {},
   "outputs": [],
   "source": [
    "model=my_GaussianNB()"
   ]
  },
  {
   "cell_type": "code",
   "execution_count": 7,
   "id": "738abbc5",
   "metadata": {},
   "outputs": [],
   "source": [
    "model.fit(x_train,y_train)"
   ]
  },
  {
   "cell_type": "code",
   "execution_count": 8,
   "id": "6828ce97",
   "metadata": {},
   "outputs": [],
   "source": [
    "y_pre=model.predict(x_test)"
   ]
  },
  {
   "cell_type": "code",
   "execution_count": 9,
   "id": "0b407a13",
   "metadata": {},
   "outputs": [
    {
     "data": {
      "text/plain": [
       "1.0"
      ]
     },
     "execution_count": 9,
     "metadata": {},
     "output_type": "execute_result"
    }
   ],
   "source": [
    "cnt=0\n",
    "for i in range(len(y_pre)):\n",
    "    if y_pre[i]==y_test[i]:\n",
    "        cnt=cnt+1\n",
    "    acc=cnt/len(y_pre)\n",
    "    \n",
    "acc"
   ]
  },
  {
   "cell_type": "markdown",
   "id": "522dbe51",
   "metadata": {},
   "source": [
    "# 使用sklearn库的GussianNB训练  \n",
    "**predict**方法：直接给出测试集的预测类别  \n",
    "**predict_proba**方法：给出测试集样本在各个类别上预测的概率  \n",
    "**predict_log_proba**方法：预测概率的对数转化"
   ]
  },
  {
   "cell_type": "code",
   "execution_count": 10,
   "id": "178b4622",
   "metadata": {},
   "outputs": [],
   "source": [
    "from sklearn.naive_bayes import GaussianNB,BernoulliNB,MultinomialNB  # 高斯模型，伯努利模型和多项式模型"
   ]
  },
  {
   "cell_type": "code",
   "execution_count": 11,
   "id": "0e6f29cf",
   "metadata": {},
   "outputs": [
    {
     "data": {
      "text/html": [
       "<style>#sk-container-id-1 {color: black;background-color: white;}#sk-container-id-1 pre{padding: 0;}#sk-container-id-1 div.sk-toggleable {background-color: white;}#sk-container-id-1 label.sk-toggleable__label {cursor: pointer;display: block;width: 100%;margin-bottom: 0;padding: 0.3em;box-sizing: border-box;text-align: center;}#sk-container-id-1 label.sk-toggleable__label-arrow:before {content: \"▸\";float: left;margin-right: 0.25em;color: #696969;}#sk-container-id-1 label.sk-toggleable__label-arrow:hover:before {color: black;}#sk-container-id-1 div.sk-estimator:hover label.sk-toggleable__label-arrow:before {color: black;}#sk-container-id-1 div.sk-toggleable__content {max-height: 0;max-width: 0;overflow: hidden;text-align: left;background-color: #f0f8ff;}#sk-container-id-1 div.sk-toggleable__content pre {margin: 0.2em;color: black;border-radius: 0.25em;background-color: #f0f8ff;}#sk-container-id-1 input.sk-toggleable__control:checked~div.sk-toggleable__content {max-height: 200px;max-width: 100%;overflow: auto;}#sk-container-id-1 input.sk-toggleable__control:checked~label.sk-toggleable__label-arrow:before {content: \"▾\";}#sk-container-id-1 div.sk-estimator input.sk-toggleable__control:checked~label.sk-toggleable__label {background-color: #d4ebff;}#sk-container-id-1 div.sk-label input.sk-toggleable__control:checked~label.sk-toggleable__label {background-color: #d4ebff;}#sk-container-id-1 input.sk-hidden--visually {border: 0;clip: rect(1px 1px 1px 1px);clip: rect(1px, 1px, 1px, 1px);height: 1px;margin: -1px;overflow: hidden;padding: 0;position: absolute;width: 1px;}#sk-container-id-1 div.sk-estimator {font-family: monospace;background-color: #f0f8ff;border: 1px dotted black;border-radius: 0.25em;box-sizing: border-box;margin-bottom: 0.5em;}#sk-container-id-1 div.sk-estimator:hover {background-color: #d4ebff;}#sk-container-id-1 div.sk-parallel-item::after {content: \"\";width: 100%;border-bottom: 1px solid gray;flex-grow: 1;}#sk-container-id-1 div.sk-label:hover label.sk-toggleable__label {background-color: #d4ebff;}#sk-container-id-1 div.sk-serial::before {content: \"\";position: absolute;border-left: 1px solid gray;box-sizing: border-box;top: 0;bottom: 0;left: 50%;z-index: 0;}#sk-container-id-1 div.sk-serial {display: flex;flex-direction: column;align-items: center;background-color: white;padding-right: 0.2em;padding-left: 0.2em;position: relative;}#sk-container-id-1 div.sk-item {position: relative;z-index: 1;}#sk-container-id-1 div.sk-parallel {display: flex;align-items: stretch;justify-content: center;background-color: white;position: relative;}#sk-container-id-1 div.sk-item::before, #sk-container-id-1 div.sk-parallel-item::before {content: \"\";position: absolute;border-left: 1px solid gray;box-sizing: border-box;top: 0;bottom: 0;left: 50%;z-index: -1;}#sk-container-id-1 div.sk-parallel-item {display: flex;flex-direction: column;z-index: 1;position: relative;background-color: white;}#sk-container-id-1 div.sk-parallel-item:first-child::after {align-self: flex-end;width: 50%;}#sk-container-id-1 div.sk-parallel-item:last-child::after {align-self: flex-start;width: 50%;}#sk-container-id-1 div.sk-parallel-item:only-child::after {width: 0;}#sk-container-id-1 div.sk-dashed-wrapped {border: 1px dashed gray;margin: 0 0.4em 0.5em 0.4em;box-sizing: border-box;padding-bottom: 0.4em;background-color: white;}#sk-container-id-1 div.sk-label label {font-family: monospace;font-weight: bold;display: inline-block;line-height: 1.2em;}#sk-container-id-1 div.sk-label-container {text-align: center;}#sk-container-id-1 div.sk-container {/* jupyter's `normalize.less` sets `[hidden] { display: none; }` but bootstrap.min.css set `[hidden] { display: none !important; }` so we also need the `!important` here to be able to override the default hidden behavior on the sphinx rendered scikit-learn.org. See: https://github.com/scikit-learn/scikit-learn/issues/21755 */display: inline-block !important;position: relative;}#sk-container-id-1 div.sk-text-repr-fallback {display: none;}</style><div id=\"sk-container-id-1\" class=\"sk-top-container\"><div class=\"sk-text-repr-fallback\"><pre>GaussianNB()</pre><b>In a Jupyter environment, please rerun this cell to show the HTML representation or trust the notebook. <br />On GitHub, the HTML representation is unable to render, please try loading this page with nbviewer.org.</b></div><div class=\"sk-container\" hidden><div class=\"sk-item\"><div class=\"sk-estimator sk-toggleable\"><input class=\"sk-toggleable__control sk-hidden--visually\" id=\"sk-estimator-id-1\" type=\"checkbox\" checked><label for=\"sk-estimator-id-1\" class=\"sk-toggleable__label sk-toggleable__label-arrow\">GaussianNB</label><div class=\"sk-toggleable__content\"><pre>GaussianNB()</pre></div></div></div></div></div>"
      ],
      "text/plain": [
       "GaussianNB()"
      ]
     },
     "execution_count": 11,
     "metadata": {},
     "output_type": "execute_result"
    }
   ],
   "source": [
    "model2=GaussianNB()\n",
    "model2.fit(x_train,y_train)"
   ]
  },
  {
   "cell_type": "code",
   "execution_count": 12,
   "id": "769cbd9f",
   "metadata": {},
   "outputs": [
    {
     "data": {
      "text/plain": [
       "1.0"
      ]
     },
     "execution_count": 12,
     "metadata": {},
     "output_type": "execute_result"
    }
   ],
   "source": [
    "model2.score(x_test,y_test)"
   ]
  }
 ],
 "metadata": {
  "kernelspec": {
   "display_name": "Python 3 (ipykernel)",
   "language": "python",
   "name": "python3"
  },
  "language_info": {
   "codemirror_mode": {
    "name": "ipython",
    "version": 3
   },
   "file_extension": ".py",
   "mimetype": "text/x-python",
   "name": "python",
   "nbconvert_exporter": "python",
   "pygments_lexer": "ipython3",
   "version": "3.9.12"
  }
 },
 "nbformat": 4,
 "nbformat_minor": 5
}
